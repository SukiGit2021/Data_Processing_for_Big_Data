{
 "cells": [
  {
   "cell_type": "markdown",
   "metadata": {},
   "source": [
    "# FIT5202 Data processing for Big Data\n",
    "# Assignment 2B: <h3>Real-time stream processing on big data</h3>\n",
    "\n",
    "Student Name: PEIYU LIU\n",
    "<br>Student ID: 31153291"
   ]
  },
  {
   "cell_type": "markdown",
   "metadata": {},
   "source": [
    "<h1>1 Producing the streaming data</h1>"
   ]
  },
  {
   "cell_type": "markdown",
   "metadata": {},
   "source": [
    "implement an Apache Kafka producer to simulate the real-time streaming of the data.generate the event timestamp in UTC timezone\n",
    "convert the timestamp to unix-timestamp format (keeping UTC timezone)\n",
    "“ts” column."
   ]
  },
  {
   "cell_type": "code",
   "execution_count": 1,
   "metadata": {},
   "outputs": [],
   "source": [
    "# import libraries  that assignment nended.\n",
    "from time import sleep\n",
    "from json import dumps\n",
    "import random\n",
    "import datetime as dt\n",
    "import itertools\n",
    "import os\n",
    "import pandas as pd\n",
    "from kafka import KafkaProducer"
   ]
  },
  {
   "cell_type": "markdown",
   "metadata": {},
   "source": [
    "Read the 20 files of “flight*.csv” flightsRawDf\n",
    "\n",
    "Reference: list all files:https://stackoverflow.com/questions/3207219/how-do-i-list-all-files-of-a-directory\n",
    "<br>Literate all flight files in flight folder. Add files' names with files' path into list"
   ]
  },
  {
   "cell_type": "code",
   "execution_count": 3,
   "metadata": {},
   "outputs": [],
   "source": [
    "df = load_data('./flight-delays/')"
   ]
  },
  {
   "cell_type": "markdown",
   "metadata": {},
   "source": [
    "<h3>a. Take the DAY_OF_WEEK column as the key, name a variable KeyFlights which contains the set of keys (7 keys).</h3>"
   ]
  },
  {
   "cell_type": "code",
   "execution_count": 4,
   "metadata": {},
   "outputs": [
    {
     "data": {
      "text/plain": [
       "{1, 2, 3, 4, 5, 6, 7}"
      ]
     },
     "execution_count": 4,
     "metadata": {},
     "output_type": "execute_result"
    }
   ],
   "source": [
    "KeyFlights = set(df['DAY_OF_WEEK'])# set remove duplicated values\n",
    "KeyFlights"
   ]
  },
  {
   "cell_type": "markdown",
   "metadata": {},
   "source": [
    "<h3>b. Create a function getFlightRecords, which returns a variable named flightRecords, which is a dictionary that contains all flight data with their associated keys (step 3).</h3>"
   ]
  },
  {
   "cell_type": "markdown",
   "metadata": {},
   "source": [
    "a dictionary that contains all flight data with their associated keys\n",
    "<br>reference: to_dict: https://pandas.pydata.org/docs/reference/api/pandas.DataFrame.to_dict.html<br>\n",
    "itertools:https://github.com/dpkp/kafka-python/blob/master/benchmarks/record_batch_compose.py\n",
    "<br>cicle: itertools.cycle: https://www.geeksforgeeks.org/python-itertools-cycle/"
   ]
  },
  {
   "cell_type": "code",
   "execution_count": 5,
   "metadata": {},
   "outputs": [],
   "source": [
    "#to_dict: https://pandas.pydata.org/docs/reference/api/pandas.DataFrame.to_dict.html\n",
    "# ‘records’ : list like [{column -> value}, … , {column -> value}]\n",
    "#itertools.cycle: https://www.geeksforgeeks.org/python-itertools-cycle/\n",
    "# itertools:https://github.com/dpkp/kafka-python/blob/master/benchmarks/record_batch_compose.py\n",
    "def getFlightRecords(data):\n",
    "    # group data by keys[1-7]\n",
    "    key_flightRecords = data.groupby('DAY_OF_WEEK')\n",
    "    # use itertools.circle function to format data as  key: list\n",
    "    #{key: <itertools.cycle at 0x7f69bd3c4740>...}\n",
    "    # cycle() will repeat the incoming sequence indefinitely\n",
    "    list_mode = 'records'\n",
    "    #list like [{column -> value}, … , {column -> value}]\n",
    "    flightRecords = {k:itertools.cycle(v.to_dict(orient=list_mode)) for k,v in key_flightRecords}\n",
    "    return flightRecords"
   ]
  },
  {
   "cell_type": "code",
   "execution_count": 6,
   "metadata": {},
   "outputs": [],
   "source": [
    "# https://opendev.org/openstack/deb-python-kafka/commit/b8717b4b79462e83344f49bbd42312cf521d84aa\n",
    "#{key: <itertools.cycle at 0x7f69bd3c4740>...}\n",
    "flightRecords = getFlightRecords(df)"
   ]
  },
  {
   "cell_type": "raw",
   "metadata": {},
   "source": [
    "flightRecords"
   ]
  },
  {
   "cell_type": "markdown",
   "metadata": {},
   "source": [
    "<h3>c. Create a topic called ‘flightTopic’</h3>"
   ]
  },
  {
   "cell_type": "code",
   "execution_count": 7,
   "metadata": {},
   "outputs": [],
   "source": [
    "topic = 'flightTopic'"
   ]
  },
  {
   "cell_type": "markdown",
   "metadata": {},
   "source": [
    "<h3>d. Create an instance variable called ‘flightProducer’</h3>\n",
    "\n",
    "<code>According to week10 lab task</code>"
   ]
  },
  {
   "cell_type": "code",
   "execution_count": 8,
   "metadata": {},
   "outputs": [],
   "source": [
    "def publish_message(producer_instance, topic_name, data):\n",
    "    try:\n",
    "        producer_instance.send(topic_name, value = data)\n",
    "        print(str(data))\n",
    "    except Exception as ex:\n",
    "        print('Exception in publishing message.')\n",
    "        print(str(ex))\n",
    "        \n",
    "def connect_kafka_producer():\n",
    "    _producer = None\n",
    "    try:\n",
    "        _producer = KafkaProducer(bootstrap_servers=['localhost:9092'],\n",
    "                                  # https://docs.python.org/3/library/json.html\n",
    "                                  # json encode Serialize obj to str\n",
    "                                  value_serializer=lambda x: dumps(x).encode('ascii'),\n",
    "                                  api_version=(0, 10))\n",
    "    except Exception as ex:\n",
    "        print('Exception while connecting Kafka.')\n",
    "        print(str(ex))\n",
    "    finally:\n",
    "        return _producer"
   ]
  },
  {
   "cell_type": "markdown",
   "metadata": {},
   "source": [
    "<h1>e</h1>\n",
    "Generate A[‘keyFlight’] and B[‘keyFlight’]\n",
    "<br><code>keyFlight_A,keyFlight_B =[],[]</code>\n",
    "<br>keyFlight_A.append(dict(next(flightRecords[keyFlight]),**{'ts':utc_format}))\n",
    "<br>keyFlight_B.append(dict(next(flightRecords[keyFlight]),**{'ts':utc_format}))\n",
    "<h1>f</h1>\n",
    "Send X and Y to the consumer\n",
    "a. At time1: X1 and Y 1 are generated on the producer side, but only X1 is sent.\n",
    "<br>b. At time2: X2 and Y2 are generated on the producer side, but only X2 and pending data from the previous batch (Y1) are sent to the consumer.\n",
    "\n",
    "<code>According to week10 lab task</code>\n",
    "\n",
    "reference:next() https://www.javatpoint.com/python-next-function"
   ]
  },
  {
   "cell_type": "code",
   "execution_count": null,
   "metadata": {},
   "outputs": [
    {
     "name": "stdout",
     "output_type": "stream",
     "text": [
      "Publishing records...\n"
     ]
    }
   ],
   "source": [
    "if __name__ == '__main__':\n",
    "    topic = 'flightTopic'\n",
    "    print(\"Publishing records...\")\n",
    "    flightProducer = connect_kafka_producer()\n",
    "    #batch X and Y\n",
    "    keyFlight_A,keyFlight_B =[],[]\n",
    "    flag = True\n",
    "    while flag:\n",
    "        for keyFlight in [*flightRecords]:\n",
    "            utc_format = int(dt.datetime.utcnow().timestamp())\n",
    "            #Generate A[‘keyFlight’] and B[‘keyFlight’] timestamp\n",
    "            for a in range(random.randint(70,100)):# between 70~100 (inclusive)\n",
    "                # give data and timestamp to A \n",
    "                #next() returns the next item from the iterator\n",
    "                #https://www.javatpoint.com/python-next-function\n",
    "                keyFlight_A.append(dict(next(flightRecords[keyFlight]),**{'ts':utc_format}))\n",
    "            for b in range(random.randint(5,10)):#5~10 (inclusive)\n",
    "                # give data and timestamp to B \n",
    "                 #next() returns the next item from the iterator\n",
    "                keyFlight_B.append(dict(next(flightRecords[keyFlight]),**{'ts':utc_format}))\n",
    "        publish_message(flightProducer,topic,keyFlight_A)\n",
    "        keyFlight_A = keyFlight_B\n",
    "        keyFlight_B=[]\n",
    "        sleep(5)"
   ]
  }
 ],
 "metadata": {
  "kernelspec": {
   "display_name": "Python 3",
   "language": "python",
   "name": "python3"
  },
  "language_info": {
   "codemirror_mode": {
    "name": "ipython",
    "version": 3
   },
   "file_extension": ".py",
   "mimetype": "text/x-python",
   "name": "python",
   "nbconvert_exporter": "python",
   "pygments_lexer": "ipython3",
   "version": "3.8.3"
  }
 },
 "nbformat": 4,
 "nbformat_minor": 4
}
